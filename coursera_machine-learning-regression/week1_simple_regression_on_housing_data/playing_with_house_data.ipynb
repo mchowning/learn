{
 "cells": [
  {
   "cell_type": "code",
   "execution_count": 1,
   "metadata": {
    "collapsed": false
   },
   "outputs": [],
   "source": [
    "import pandas"
   ]
  },
  {
   "cell_type": "code",
   "execution_count": 2,
   "metadata": {
    "collapsed": false
   },
   "outputs": [],
   "source": [
    "dtype_dict = {'bathrooms':float, \n",
    "              'waterfront':int, \n",
    "              'sqft_above':int, \n",
    "              'sqft_living15':float, \n",
    "              'grade':int, \n",
    "              'yr_renovated':int, \n",
    "              'price':float, \n",
    "              'bedrooms':float, \n",
    "              'zipcode':str, \n",
    "              'long':float, \n",
    "              'sqft_lot15':float, \n",
    "              'sqft_living':float, \n",
    "              'floors':str, \n",
    "              'condition':int, \n",
    "              'lat':float, \n",
    "              'date':str, \n",
    "              'sqft_basement':int, \n",
    "              'yr_built':int, \n",
    "              'id':str, \n",
    "              'sqft_lot':int, \n",
    "              'view':int}\n",
    "\n",
    "# 'kc_house_train_data.csv' & 'kc_house_test_data.csv' are splits of the data in 'kc_house_data.csv'\n",
    "data = pandas.read_csv('kc_house_data.csv', dtype=dtype_dict)\n",
    "train = pandas.read_csv('kc_house_train_data.csv', dtype=dtype_dict)\n",
    "test = pandas.read_csv('kc_house_test_data.csv', dtype=dtype_dict)"
   ]
  },
  {
   "cell_type": "code",
   "execution_count": 3,
   "metadata": {
    "collapsed": false
   },
   "outputs": [
    {
     "data": {
      "text/html": [
       "<div>\n",
       "<table border=\"1\" class=\"dataframe\">\n",
       "  <thead>\n",
       "    <tr style=\"text-align: right;\">\n",
       "      <th></th>\n",
       "      <th>price</th>\n",
       "      <th>bedrooms</th>\n",
       "      <th>bathrooms</th>\n",
       "      <th>sqft_living</th>\n",
       "      <th>sqft_lot</th>\n",
       "      <th>waterfront</th>\n",
       "      <th>view</th>\n",
       "      <th>condition</th>\n",
       "      <th>grade</th>\n",
       "      <th>sqft_above</th>\n",
       "      <th>sqft_basement</th>\n",
       "      <th>yr_built</th>\n",
       "      <th>yr_renovated</th>\n",
       "      <th>lat</th>\n",
       "      <th>long</th>\n",
       "      <th>sqft_living15</th>\n",
       "      <th>sqft_lot15</th>\n",
       "    </tr>\n",
       "  </thead>\n",
       "  <tbody>\n",
       "    <tr>\n",
       "      <th>count</th>\n",
       "      <td>1.738400e+04</td>\n",
       "      <td>17384.000000</td>\n",
       "      <td>17384.000000</td>\n",
       "      <td>17384.000000</td>\n",
       "      <td>1.738400e+04</td>\n",
       "      <td>17384.000000</td>\n",
       "      <td>17384.000000</td>\n",
       "      <td>17384.000000</td>\n",
       "      <td>17384.000000</td>\n",
       "      <td>17384.000000</td>\n",
       "      <td>17384.000000</td>\n",
       "      <td>17384.000000</td>\n",
       "      <td>17384.000000</td>\n",
       "      <td>17384.000000</td>\n",
       "      <td>17384.000000</td>\n",
       "      <td>17384.000000</td>\n",
       "      <td>17384.000000</td>\n",
       "    </tr>\n",
       "    <tr>\n",
       "      <th>mean</th>\n",
       "      <td>5.393666e+05</td>\n",
       "      <td>3.369363</td>\n",
       "      <td>2.115048</td>\n",
       "      <td>2080.029510</td>\n",
       "      <td>1.509191e+04</td>\n",
       "      <td>0.007651</td>\n",
       "      <td>0.236079</td>\n",
       "      <td>3.410780</td>\n",
       "      <td>7.655028</td>\n",
       "      <td>1787.844512</td>\n",
       "      <td>292.184998</td>\n",
       "      <td>1971.152727</td>\n",
       "      <td>83.107973</td>\n",
       "      <td>47.559313</td>\n",
       "      <td>-122.213281</td>\n",
       "      <td>1985.994995</td>\n",
       "      <td>12776.380867</td>\n",
       "    </tr>\n",
       "    <tr>\n",
       "      <th>std</th>\n",
       "      <td>3.696912e+05</td>\n",
       "      <td>0.906468</td>\n",
       "      <td>0.771783</td>\n",
       "      <td>921.630888</td>\n",
       "      <td>4.145927e+04</td>\n",
       "      <td>0.087136</td>\n",
       "      <td>0.768008</td>\n",
       "      <td>0.649792</td>\n",
       "      <td>1.169818</td>\n",
       "      <td>827.107595</td>\n",
       "      <td>444.404136</td>\n",
       "      <td>29.328722</td>\n",
       "      <td>398.692283</td>\n",
       "      <td>0.138703</td>\n",
       "      <td>0.140906</td>\n",
       "      <td>686.512835</td>\n",
       "      <td>27175.730523</td>\n",
       "    </tr>\n",
       "    <tr>\n",
       "      <th>min</th>\n",
       "      <td>7.500000e+04</td>\n",
       "      <td>0.000000</td>\n",
       "      <td>0.000000</td>\n",
       "      <td>290.000000</td>\n",
       "      <td>5.200000e+02</td>\n",
       "      <td>0.000000</td>\n",
       "      <td>0.000000</td>\n",
       "      <td>1.000000</td>\n",
       "      <td>1.000000</td>\n",
       "      <td>290.000000</td>\n",
       "      <td>0.000000</td>\n",
       "      <td>1900.000000</td>\n",
       "      <td>0.000000</td>\n",
       "      <td>47.159300</td>\n",
       "      <td>-122.519000</td>\n",
       "      <td>399.000000</td>\n",
       "      <td>651.000000</td>\n",
       "    </tr>\n",
       "    <tr>\n",
       "      <th>25%</th>\n",
       "      <td>3.200000e+05</td>\n",
       "      <td>3.000000</td>\n",
       "      <td>1.750000</td>\n",
       "      <td>1420.000000</td>\n",
       "      <td>5.049500e+03</td>\n",
       "      <td>0.000000</td>\n",
       "      <td>0.000000</td>\n",
       "      <td>3.000000</td>\n",
       "      <td>7.000000</td>\n",
       "      <td>1200.000000</td>\n",
       "      <td>0.000000</td>\n",
       "      <td>1952.000000</td>\n",
       "      <td>0.000000</td>\n",
       "      <td>47.468650</td>\n",
       "      <td>-122.328000</td>\n",
       "      <td>1490.000000</td>\n",
       "      <td>5100.000000</td>\n",
       "    </tr>\n",
       "    <tr>\n",
       "      <th>50%</th>\n",
       "      <td>4.500000e+05</td>\n",
       "      <td>3.000000</td>\n",
       "      <td>2.250000</td>\n",
       "      <td>1910.000000</td>\n",
       "      <td>7.616000e+03</td>\n",
       "      <td>0.000000</td>\n",
       "      <td>0.000000</td>\n",
       "      <td>3.000000</td>\n",
       "      <td>7.000000</td>\n",
       "      <td>1560.000000</td>\n",
       "      <td>0.000000</td>\n",
       "      <td>1975.000000</td>\n",
       "      <td>0.000000</td>\n",
       "      <td>47.571400</td>\n",
       "      <td>-122.229000</td>\n",
       "      <td>1840.000000</td>\n",
       "      <td>7620.000000</td>\n",
       "    </tr>\n",
       "    <tr>\n",
       "      <th>75%</th>\n",
       "      <td>6.400000e+05</td>\n",
       "      <td>4.000000</td>\n",
       "      <td>2.500000</td>\n",
       "      <td>2550.000000</td>\n",
       "      <td>1.066525e+04</td>\n",
       "      <td>0.000000</td>\n",
       "      <td>0.000000</td>\n",
       "      <td>4.000000</td>\n",
       "      <td>8.000000</td>\n",
       "      <td>2210.000000</td>\n",
       "      <td>560.000000</td>\n",
       "      <td>1997.000000</td>\n",
       "      <td>0.000000</td>\n",
       "      <td>47.677625</td>\n",
       "      <td>-122.125000</td>\n",
       "      <td>2360.000000</td>\n",
       "      <td>10065.250000</td>\n",
       "    </tr>\n",
       "    <tr>\n",
       "      <th>max</th>\n",
       "      <td>7.700000e+06</td>\n",
       "      <td>10.000000</td>\n",
       "      <td>8.000000</td>\n",
       "      <td>13540.000000</td>\n",
       "      <td>1.651359e+06</td>\n",
       "      <td>1.000000</td>\n",
       "      <td>4.000000</td>\n",
       "      <td>5.000000</td>\n",
       "      <td>13.000000</td>\n",
       "      <td>9410.000000</td>\n",
       "      <td>4820.000000</td>\n",
       "      <td>2015.000000</td>\n",
       "      <td>2015.000000</td>\n",
       "      <td>47.777600</td>\n",
       "      <td>-121.315000</td>\n",
       "      <td>6210.000000</td>\n",
       "      <td>871200.000000</td>\n",
       "    </tr>\n",
       "  </tbody>\n",
       "</table>\n",
       "</div>"
      ],
      "text/plain": [
       "              price      bedrooms     bathrooms   sqft_living      sqft_lot  \\\n",
       "count  1.738400e+04  17384.000000  17384.000000  17384.000000  1.738400e+04   \n",
       "mean   5.393666e+05      3.369363      2.115048   2080.029510  1.509191e+04   \n",
       "std    3.696912e+05      0.906468      0.771783    921.630888  4.145927e+04   \n",
       "min    7.500000e+04      0.000000      0.000000    290.000000  5.200000e+02   \n",
       "25%    3.200000e+05      3.000000      1.750000   1420.000000  5.049500e+03   \n",
       "50%    4.500000e+05      3.000000      2.250000   1910.000000  7.616000e+03   \n",
       "75%    6.400000e+05      4.000000      2.500000   2550.000000  1.066525e+04   \n",
       "max    7.700000e+06     10.000000      8.000000  13540.000000  1.651359e+06   \n",
       "\n",
       "         waterfront          view     condition         grade    sqft_above  \\\n",
       "count  17384.000000  17384.000000  17384.000000  17384.000000  17384.000000   \n",
       "mean       0.007651      0.236079      3.410780      7.655028   1787.844512   \n",
       "std        0.087136      0.768008      0.649792      1.169818    827.107595   \n",
       "min        0.000000      0.000000      1.000000      1.000000    290.000000   \n",
       "25%        0.000000      0.000000      3.000000      7.000000   1200.000000   \n",
       "50%        0.000000      0.000000      3.000000      7.000000   1560.000000   \n",
       "75%        0.000000      0.000000      4.000000      8.000000   2210.000000   \n",
       "max        1.000000      4.000000      5.000000     13.000000   9410.000000   \n",
       "\n",
       "       sqft_basement      yr_built  yr_renovated           lat          long  \\\n",
       "count   17384.000000  17384.000000  17384.000000  17384.000000  17384.000000   \n",
       "mean      292.184998   1971.152727     83.107973     47.559313   -122.213281   \n",
       "std       444.404136     29.328722    398.692283      0.138703      0.140906   \n",
       "min         0.000000   1900.000000      0.000000     47.159300   -122.519000   \n",
       "25%         0.000000   1952.000000      0.000000     47.468650   -122.328000   \n",
       "50%         0.000000   1975.000000      0.000000     47.571400   -122.229000   \n",
       "75%       560.000000   1997.000000      0.000000     47.677625   -122.125000   \n",
       "max      4820.000000   2015.000000   2015.000000     47.777600   -121.315000   \n",
       "\n",
       "       sqft_living15     sqft_lot15  \n",
       "count   17384.000000   17384.000000  \n",
       "mean     1985.994995   12776.380867  \n",
       "std       686.512835   27175.730523  \n",
       "min       399.000000     651.000000  \n",
       "25%      1490.000000    5100.000000  \n",
       "50%      1840.000000    7620.000000  \n",
       "75%      2360.000000   10065.250000  \n",
       "max      6210.000000  871200.000000  "
      ]
     },
     "execution_count": 3,
     "metadata": {},
     "output_type": "execute_result"
    }
   ],
   "source": [
    "train.describe()"
   ]
  },
  {
   "cell_type": "markdown",
   "metadata": {},
   "source": [
    "### Basic Visualization of Bedrooms -> Price"
   ]
  },
  {
   "cell_type": "code",
   "execution_count": 4,
   "metadata": {
    "collapsed": false
   },
   "outputs": [
    {
     "data": {
      "image/png": "[encoded data removed]",
      "text/plain": [
       "<matplotlib.figure.Figure at 0x108dd5e10>"
      ]
     },
     "metadata": {},
     "output_type": "display_data"
    }
   ],
   "source": [
    "%matplotlib inline\n",
    "# matplotlib.use('TkAgg')\n",
    "# import matplotlib\n",
    "import matplotlib.pyplot as plt\n",
    "\n",
    "plt.scatter(data[\"price\"], data[\"bedrooms\"], s=10)\n",
    "plt.ticklabel_format(style='plain')\n",
    "plt.show()"
   ]
  },
  {
   "cell_type": "code",
   "execution_count": 5,
   "metadata": {
    "collapsed": false
   },
   "outputs": [
    {
     "data": {
      "text/html": [
       "<div>\n",
       "<table border=\"1\" class=\"dataframe\">\n",
       "  <thead>\n",
       "    <tr style=\"text-align: right;\">\n",
       "      <th></th>\n",
       "      <th>id</th>\n",
       "      <th>date</th>\n",
       "      <th>price</th>\n",
       "      <th>bedrooms</th>\n",
       "      <th>bathrooms</th>\n",
       "      <th>sqft_living</th>\n",
       "      <th>sqft_lot</th>\n",
       "      <th>floors</th>\n",
       "      <th>waterfront</th>\n",
       "      <th>view</th>\n",
       "      <th>...</th>\n",
       "      <th>grade</th>\n",
       "      <th>sqft_above</th>\n",
       "      <th>sqft_basement</th>\n",
       "      <th>yr_built</th>\n",
       "      <th>yr_renovated</th>\n",
       "      <th>zipcode</th>\n",
       "      <th>lat</th>\n",
       "      <th>long</th>\n",
       "      <th>sqft_living15</th>\n",
       "      <th>sqft_lot15</th>\n",
       "    </tr>\n",
       "  </thead>\n",
       "  <tbody>\n",
       "    <tr>\n",
       "      <th>3102</th>\n",
       "      <td>2402100895</td>\n",
       "      <td>20140625T000000</td>\n",
       "      <td>640000.0</td>\n",
       "      <td>33.0</td>\n",
       "      <td>1.75</td>\n",
       "      <td>1620.0</td>\n",
       "      <td>6000</td>\n",
       "      <td>1</td>\n",
       "      <td>0</td>\n",
       "      <td>0</td>\n",
       "      <td>...</td>\n",
       "      <td>7</td>\n",
       "      <td>1040</td>\n",
       "      <td>580</td>\n",
       "      <td>1947</td>\n",
       "      <td>0</td>\n",
       "      <td>98103</td>\n",
       "      <td>47.6878</td>\n",
       "      <td>-122.331</td>\n",
       "      <td>1330.0</td>\n",
       "      <td>4700.0</td>\n",
       "    </tr>\n",
       "  </tbody>\n",
       "</table>\n",
       "<p>1 rows × 21 columns</p>\n",
       "</div>"
      ],
      "text/plain": [
       "              id             date     price  bedrooms  bathrooms  sqft_living  \\\n",
       "3102  2402100895  20140625T000000  640000.0      33.0       1.75       1620.0   \n",
       "\n",
       "      sqft_lot floors  waterfront  view     ...      grade  sqft_above  \\\n",
       "3102      6000      1           0     0     ...          7        1040   \n",
       "\n",
       "      sqft_basement  yr_built  yr_renovated  zipcode      lat     long  \\\n",
       "3102            580      1947             0    98103  47.6878 -122.331   \n",
       "\n",
       "      sqft_living15  sqft_lot15  \n",
       "3102         1330.0      4700.0  \n",
       "\n",
       "[1 rows x 21 columns]"
      ]
     },
     "execution_count": 5,
     "metadata": {},
     "output_type": "execute_result"
    }
   ],
   "source": [
    "# looks like we have a bad datapoint (33 bedrooms with 1.75 bath seems unlikely)\n",
    "test[test[\"bedrooms\"] > 20]"
   ]
  },
  {
   "cell_type": "code",
   "execution_count": 6,
   "metadata": {
    "collapsed": false
   },
   "outputs": [],
   "source": [
    "# so I'm going to reset it to the mean number of bedrooms\n",
    "mean_bedrooms = data['bedrooms'].mean()\n",
    "test[test['bedrooms'] > 20] = mean_bedrooms\n",
    "data[data['bedrooms'] > 20] = mean_bedrooms"
   ]
  },
  {
   "cell_type": "code",
   "execution_count": 7,
   "metadata": {
    "collapsed": false
   },
   "outputs": [
    {
     "data": {
      "image/png": "[encoded data removed]",
      "text/plain": [
       "<matplotlib.figure.Figure at 0x10781ac10>"
      ]
     },
     "metadata": {},
     "output_type": "display_data"
    }
   ],
   "source": [
    "# looks much better now\n",
    "plt.scatter(data[\"price\"], data[\"bedrooms\"], s=10)\n",
    "plt.ticklabel_format(style='plain')\n",
    "plt.show()"
   ]
  },
  {
   "cell_type": "code",
   "execution_count": 8,
   "metadata": {
    "collapsed": false
   },
   "outputs": [
    {
     "data": {
      "image/png": "[encoded data removed]",
      "text/plain": [
       "<matplotlib.figure.Figure at 0x109320810>"
      ]
     },
     "metadata": {},
     "output_type": "display_data"
    }
   ],
   "source": [
    "# lets see a bar chart\n",
    "bedrooms = map(round, sorted(data['bedrooms'].unique()))\n",
    "avg_prices = []\n",
    "for br in bedrooms:\n",
    "    avg_prices.append(data[data['bedrooms'] // 1 == br]['price'].mean())\n",
    "\n",
    "plt.bar(bedrooms, avg_prices)\n",
    "plt.show()\n"
   ]
  },
  {
   "cell_type": "code",
   "execution_count": 9,
   "metadata": {
    "collapsed": false
   },
   "outputs": [
    {
     "data": {
      "text/html": [
       "<div>\n",
       "<table border=\"1\" class=\"dataframe\">\n",
       "  <thead>\n",
       "    <tr style=\"text-align: right;\">\n",
       "      <th></th>\n",
       "      <th>id</th>\n",
       "      <th>date</th>\n",
       "      <th>price</th>\n",
       "      <th>bedrooms</th>\n",
       "      <th>bathrooms</th>\n",
       "      <th>sqft_living</th>\n",
       "      <th>sqft_lot</th>\n",
       "      <th>floors</th>\n",
       "      <th>waterfront</th>\n",
       "      <th>view</th>\n",
       "      <th>...</th>\n",
       "      <th>grade</th>\n",
       "      <th>sqft_above</th>\n",
       "      <th>sqft_basement</th>\n",
       "      <th>yr_built</th>\n",
       "      <th>yr_renovated</th>\n",
       "      <th>zipcode</th>\n",
       "      <th>lat</th>\n",
       "      <th>long</th>\n",
       "      <th>sqft_living15</th>\n",
       "      <th>sqft_lot15</th>\n",
       "    </tr>\n",
       "  </thead>\n",
       "  <tbody>\n",
       "    <tr>\n",
       "      <th>875</th>\n",
       "      <td>6306400140</td>\n",
       "      <td>20140612T000000</td>\n",
       "      <td>1095000.0</td>\n",
       "      <td>0.0</td>\n",
       "      <td>0.00</td>\n",
       "      <td>3064.0</td>\n",
       "      <td>4764.0</td>\n",
       "      <td>3.5</td>\n",
       "      <td>0.0</td>\n",
       "      <td>2.0</td>\n",
       "      <td>...</td>\n",
       "      <td>7.0</td>\n",
       "      <td>3064.0</td>\n",
       "      <td>0.0</td>\n",
       "      <td>1990.0</td>\n",
       "      <td>0.0</td>\n",
       "      <td>98102</td>\n",
       "      <td>47.6362</td>\n",
       "      <td>-122.322</td>\n",
       "      <td>2360.0</td>\n",
       "      <td>4000.0</td>\n",
       "    </tr>\n",
       "    <tr>\n",
       "      <th>3119</th>\n",
       "      <td>3918400017</td>\n",
       "      <td>20150205T000000</td>\n",
       "      <td>380000.0</td>\n",
       "      <td>0.0</td>\n",
       "      <td>0.00</td>\n",
       "      <td>1470.0</td>\n",
       "      <td>979.0</td>\n",
       "      <td>3</td>\n",
       "      <td>0.0</td>\n",
       "      <td>2.0</td>\n",
       "      <td>...</td>\n",
       "      <td>8.0</td>\n",
       "      <td>1470.0</td>\n",
       "      <td>0.0</td>\n",
       "      <td>2006.0</td>\n",
       "      <td>0.0</td>\n",
       "      <td>98133</td>\n",
       "      <td>47.7145</td>\n",
       "      <td>-122.356</td>\n",
       "      <td>1470.0</td>\n",
       "      <td>1399.0</td>\n",
       "    </tr>\n",
       "    <tr>\n",
       "      <th>3467</th>\n",
       "      <td>1453602309</td>\n",
       "      <td>20140805T000000</td>\n",
       "      <td>288000.0</td>\n",
       "      <td>0.0</td>\n",
       "      <td>1.50</td>\n",
       "      <td>1430.0</td>\n",
       "      <td>1650.0</td>\n",
       "      <td>3</td>\n",
       "      <td>0.0</td>\n",
       "      <td>0.0</td>\n",
       "      <td>...</td>\n",
       "      <td>7.0</td>\n",
       "      <td>1430.0</td>\n",
       "      <td>0.0</td>\n",
       "      <td>1999.0</td>\n",
       "      <td>0.0</td>\n",
       "      <td>98125</td>\n",
       "      <td>47.7222</td>\n",
       "      <td>-122.290</td>\n",
       "      <td>1430.0</td>\n",
       "      <td>1650.0</td>\n",
       "    </tr>\n",
       "    <tr>\n",
       "      <th>4868</th>\n",
       "      <td>6896300380</td>\n",
       "      <td>20141002T000000</td>\n",
       "      <td>228000.0</td>\n",
       "      <td>0.0</td>\n",
       "      <td>1.00</td>\n",
       "      <td>390.0</td>\n",
       "      <td>5900.0</td>\n",
       "      <td>1</td>\n",
       "      <td>0.0</td>\n",
       "      <td>0.0</td>\n",
       "      <td>...</td>\n",
       "      <td>4.0</td>\n",
       "      <td>390.0</td>\n",
       "      <td>0.0</td>\n",
       "      <td>1953.0</td>\n",
       "      <td>0.0</td>\n",
       "      <td>98118</td>\n",
       "      <td>47.5260</td>\n",
       "      <td>-122.261</td>\n",
       "      <td>2170.0</td>\n",
       "      <td>6000.0</td>\n",
       "    </tr>\n",
       "    <tr>\n",
       "      <th>6994</th>\n",
       "      <td>2954400190</td>\n",
       "      <td>20140624T000000</td>\n",
       "      <td>1295650.0</td>\n",
       "      <td>0.0</td>\n",
       "      <td>0.00</td>\n",
       "      <td>4810.0</td>\n",
       "      <td>28008.0</td>\n",
       "      <td>2</td>\n",
       "      <td>0.0</td>\n",
       "      <td>0.0</td>\n",
       "      <td>...</td>\n",
       "      <td>12.0</td>\n",
       "      <td>4810.0</td>\n",
       "      <td>0.0</td>\n",
       "      <td>1990.0</td>\n",
       "      <td>0.0</td>\n",
       "      <td>98053</td>\n",
       "      <td>47.6642</td>\n",
       "      <td>-122.069</td>\n",
       "      <td>4740.0</td>\n",
       "      <td>35061.0</td>\n",
       "    </tr>\n",
       "    <tr>\n",
       "      <th>8477</th>\n",
       "      <td>2569500210</td>\n",
       "      <td>20141117T000000</td>\n",
       "      <td>339950.0</td>\n",
       "      <td>0.0</td>\n",
       "      <td>2.50</td>\n",
       "      <td>2290.0</td>\n",
       "      <td>8319.0</td>\n",
       "      <td>2</td>\n",
       "      <td>0.0</td>\n",
       "      <td>0.0</td>\n",
       "      <td>...</td>\n",
       "      <td>8.0</td>\n",
       "      <td>2290.0</td>\n",
       "      <td>0.0</td>\n",
       "      <td>1985.0</td>\n",
       "      <td>0.0</td>\n",
       "      <td>98042</td>\n",
       "      <td>47.3473</td>\n",
       "      <td>-122.151</td>\n",
       "      <td>2500.0</td>\n",
       "      <td>8751.0</td>\n",
       "    </tr>\n",
       "    <tr>\n",
       "      <th>8484</th>\n",
       "      <td>2310060040</td>\n",
       "      <td>20140925T000000</td>\n",
       "      <td>240000.0</td>\n",
       "      <td>0.0</td>\n",
       "      <td>2.50</td>\n",
       "      <td>1810.0</td>\n",
       "      <td>5669.0</td>\n",
       "      <td>2</td>\n",
       "      <td>0.0</td>\n",
       "      <td>0.0</td>\n",
       "      <td>...</td>\n",
       "      <td>7.0</td>\n",
       "      <td>1810.0</td>\n",
       "      <td>0.0</td>\n",
       "      <td>2003.0</td>\n",
       "      <td>0.0</td>\n",
       "      <td>98038</td>\n",
       "      <td>47.3493</td>\n",
       "      <td>-122.053</td>\n",
       "      <td>1810.0</td>\n",
       "      <td>5685.0</td>\n",
       "    </tr>\n",
       "    <tr>\n",
       "      <th>9773</th>\n",
       "      <td>3374500520</td>\n",
       "      <td>20150429T000000</td>\n",
       "      <td>355000.0</td>\n",
       "      <td>0.0</td>\n",
       "      <td>0.00</td>\n",
       "      <td>2460.0</td>\n",
       "      <td>8049.0</td>\n",
       "      <td>2</td>\n",
       "      <td>0.0</td>\n",
       "      <td>0.0</td>\n",
       "      <td>...</td>\n",
       "      <td>8.0</td>\n",
       "      <td>2460.0</td>\n",
       "      <td>0.0</td>\n",
       "      <td>1990.0</td>\n",
       "      <td>0.0</td>\n",
       "      <td>98031</td>\n",
       "      <td>47.4095</td>\n",
       "      <td>-122.168</td>\n",
       "      <td>2520.0</td>\n",
       "      <td>8050.0</td>\n",
       "    </tr>\n",
       "    <tr>\n",
       "      <th>9854</th>\n",
       "      <td>7849202190</td>\n",
       "      <td>20141223T000000</td>\n",
       "      <td>235000.0</td>\n",
       "      <td>0.0</td>\n",
       "      <td>0.00</td>\n",
       "      <td>1470.0</td>\n",
       "      <td>4800.0</td>\n",
       "      <td>2</td>\n",
       "      <td>0.0</td>\n",
       "      <td>0.0</td>\n",
       "      <td>...</td>\n",
       "      <td>7.0</td>\n",
       "      <td>1470.0</td>\n",
       "      <td>0.0</td>\n",
       "      <td>1996.0</td>\n",
       "      <td>0.0</td>\n",
       "      <td>98065</td>\n",
       "      <td>47.5265</td>\n",
       "      <td>-121.828</td>\n",
       "      <td>1060.0</td>\n",
       "      <td>7200.0</td>\n",
       "    </tr>\n",
       "    <tr>\n",
       "      <th>12653</th>\n",
       "      <td>7849202299</td>\n",
       "      <td>20150218T000000</td>\n",
       "      <td>320000.0</td>\n",
       "      <td>0.0</td>\n",
       "      <td>2.50</td>\n",
       "      <td>1490.0</td>\n",
       "      <td>7111.0</td>\n",
       "      <td>2</td>\n",
       "      <td>0.0</td>\n",
       "      <td>0.0</td>\n",
       "      <td>...</td>\n",
       "      <td>7.0</td>\n",
       "      <td>1490.0</td>\n",
       "      <td>0.0</td>\n",
       "      <td>1999.0</td>\n",
       "      <td>0.0</td>\n",
       "      <td>98065</td>\n",
       "      <td>47.5261</td>\n",
       "      <td>-121.826</td>\n",
       "      <td>1500.0</td>\n",
       "      <td>4675.0</td>\n",
       "    </tr>\n",
       "    <tr>\n",
       "      <th>14423</th>\n",
       "      <td>9543000205</td>\n",
       "      <td>20150413T000000</td>\n",
       "      <td>139950.0</td>\n",
       "      <td>0.0</td>\n",
       "      <td>0.00</td>\n",
       "      <td>844.0</td>\n",
       "      <td>4269.0</td>\n",
       "      <td>1</td>\n",
       "      <td>0.0</td>\n",
       "      <td>0.0</td>\n",
       "      <td>...</td>\n",
       "      <td>7.0</td>\n",
       "      <td>844.0</td>\n",
       "      <td>0.0</td>\n",
       "      <td>1913.0</td>\n",
       "      <td>0.0</td>\n",
       "      <td>98001</td>\n",
       "      <td>47.2781</td>\n",
       "      <td>-122.250</td>\n",
       "      <td>1380.0</td>\n",
       "      <td>9600.0</td>\n",
       "    </tr>\n",
       "    <tr>\n",
       "      <th>18379</th>\n",
       "      <td>1222029077</td>\n",
       "      <td>20141029T000000</td>\n",
       "      <td>265000.0</td>\n",
       "      <td>0.0</td>\n",
       "      <td>0.75</td>\n",
       "      <td>384.0</td>\n",
       "      <td>213444.0</td>\n",
       "      <td>1</td>\n",
       "      <td>0.0</td>\n",
       "      <td>0.0</td>\n",
       "      <td>...</td>\n",
       "      <td>4.0</td>\n",
       "      <td>384.0</td>\n",
       "      <td>0.0</td>\n",
       "      <td>2003.0</td>\n",
       "      <td>0.0</td>\n",
       "      <td>98070</td>\n",
       "      <td>47.4177</td>\n",
       "      <td>-122.491</td>\n",
       "      <td>1920.0</td>\n",
       "      <td>224341.0</td>\n",
       "    </tr>\n",
       "    <tr>\n",
       "      <th>19452</th>\n",
       "      <td>3980300371</td>\n",
       "      <td>20140926T000000</td>\n",
       "      <td>142000.0</td>\n",
       "      <td>0.0</td>\n",
       "      <td>0.00</td>\n",
       "      <td>290.0</td>\n",
       "      <td>20875.0</td>\n",
       "      <td>1</td>\n",
       "      <td>0.0</td>\n",
       "      <td>0.0</td>\n",
       "      <td>...</td>\n",
       "      <td>1.0</td>\n",
       "      <td>290.0</td>\n",
       "      <td>0.0</td>\n",
       "      <td>1963.0</td>\n",
       "      <td>0.0</td>\n",
       "      <td>98024</td>\n",
       "      <td>47.5308</td>\n",
       "      <td>-121.888</td>\n",
       "      <td>1620.0</td>\n",
       "      <td>22850.0</td>\n",
       "    </tr>\n",
       "  </tbody>\n",
       "</table>\n",
       "<p>13 rows × 21 columns</p>\n",
       "</div>"
      ],
      "text/plain": [
       "               id             date      price  bedrooms  bathrooms  \\\n",
       "875    6306400140  20140612T000000  1095000.0       0.0       0.00   \n",
       "3119   3918400017  20150205T000000   380000.0       0.0       0.00   \n",
       "3467   1453602309  20140805T000000   288000.0       0.0       1.50   \n",
       "4868   6896300380  20141002T000000   228000.0       0.0       1.00   \n",
       "6994   2954400190  20140624T000000  1295650.0       0.0       0.00   \n",
       "8477   2569500210  20141117T000000   339950.0       0.0       2.50   \n",
       "8484   2310060040  20140925T000000   240000.0       0.0       2.50   \n",
       "9773   3374500520  20150429T000000   355000.0       0.0       0.00   \n",
       "9854   7849202190  20141223T000000   235000.0       0.0       0.00   \n",
       "12653  7849202299  20150218T000000   320000.0       0.0       2.50   \n",
       "14423  9543000205  20150413T000000   139950.0       0.0       0.00   \n",
       "18379  1222029077  20141029T000000   265000.0       0.0       0.75   \n",
       "19452  3980300371  20140926T000000   142000.0       0.0       0.00   \n",
       "\n",
       "       sqft_living  sqft_lot floors  waterfront  view     ...      grade  \\\n",
       "875         3064.0    4764.0    3.5         0.0   2.0     ...        7.0   \n",
       "3119        1470.0     979.0      3         0.0   2.0     ...        8.0   \n",
       "3467        1430.0    1650.0      3         0.0   0.0     ...        7.0   \n",
       "4868         390.0    5900.0      1         0.0   0.0     ...        4.0   \n",
       "6994        4810.0   28008.0      2         0.0   0.0     ...       12.0   \n",
       "8477        2290.0    8319.0      2         0.0   0.0     ...        8.0   \n",
       "8484        1810.0    5669.0      2         0.0   0.0     ...        7.0   \n",
       "9773        2460.0    8049.0      2         0.0   0.0     ...        8.0   \n",
       "9854        1470.0    4800.0      2         0.0   0.0     ...        7.0   \n",
       "12653       1490.0    7111.0      2         0.0   0.0     ...        7.0   \n",
       "14423        844.0    4269.0      1         0.0   0.0     ...        7.0   \n",
       "18379        384.0  213444.0      1         0.0   0.0     ...        4.0   \n",
       "19452        290.0   20875.0      1         0.0   0.0     ...        1.0   \n",
       "\n",
       "       sqft_above  sqft_basement  yr_built  yr_renovated  zipcode      lat  \\\n",
       "875        3064.0            0.0    1990.0           0.0    98102  47.6362   \n",
       "3119       1470.0            0.0    2006.0           0.0    98133  47.7145   \n",
       "3467       1430.0            0.0    1999.0           0.0    98125  47.7222   \n",
       "4868        390.0            0.0    1953.0           0.0    98118  47.5260   \n",
       "6994       4810.0            0.0    1990.0           0.0    98053  47.6642   \n",
       "8477       2290.0            0.0    1985.0           0.0    98042  47.3473   \n",
       "8484       1810.0            0.0    2003.0           0.0    98038  47.3493   \n",
       "9773       2460.0            0.0    1990.0           0.0    98031  47.4095   \n",
       "9854       1470.0            0.0    1996.0           0.0    98065  47.5265   \n",
       "12653      1490.0            0.0    1999.0           0.0    98065  47.5261   \n",
       "14423       844.0            0.0    1913.0           0.0    98001  47.2781   \n",
       "18379       384.0            0.0    2003.0           0.0    98070  47.4177   \n",
       "19452       290.0            0.0    1963.0           0.0    98024  47.5308   \n",
       "\n",
       "          long  sqft_living15  sqft_lot15  \n",
       "875   -122.322         2360.0      4000.0  \n",
       "3119  -122.356         1470.0      1399.0  \n",
       "3467  -122.290         1430.0      1650.0  \n",
       "4868  -122.261         2170.0      6000.0  \n",
       "6994  -122.069         4740.0     35061.0  \n",
       "8477  -122.151         2500.0      8751.0  \n",
       "8484  -122.053         1810.0      5685.0  \n",
       "9773  -122.168         2520.0      8050.0  \n",
       "9854  -121.828         1060.0      7200.0  \n",
       "12653 -121.826         1500.0      4675.0  \n",
       "14423 -122.250         1380.0      9600.0  \n",
       "18379 -122.491         1920.0    224341.0  \n",
       "19452 -121.888         1620.0     22850.0  \n",
       "\n",
       "[13 rows x 21 columns]"
      ]
     },
     "execution_count": 9,
     "metadata": {},
     "output_type": "execute_result"
    }
   ],
   "source": [
    "# looks like there may be some missing data here too?\n",
    "data[data['bedrooms'] == 0]\n",
    "# TODO clean this up"
   ]
  },
  {
   "cell_type": "markdown",
   "metadata": {},
   "source": [
    "### Split \"test\" set in half to get a validation and test set"
   ]
  },
  {
   "cell_type": "code",
   "execution_count": 248,
   "metadata": {
    "collapsed": false
   },
   "outputs": [],
   "source": [
    "from sklearn.cross_validation import train_test_split\n",
    "\n",
    "oldtest = test\n",
    "# [validation, newtest] = np.array_split(test,2)\n",
    "validation, newtest = train_test_split(test, test_size=0.5)"
   ]
  },
  {
   "cell_type": "markdown",
   "metadata": {},
   "source": [
    "# Simple Linear Regression, Bedrooms -> Price"
   ]
  },
  {
   "cell_type": "code",
   "execution_count": 298,
   "metadata": {
    "collapsed": false
   },
   "outputs": [],
   "source": [
    "import numpy as np\n",
    "from scipy.optimize import minimize\n",
    "from functools import partial\n",
    "import math\n",
    "\n",
    "def avg_squared_error(f, df, x):\n",
    "    total_error = f(x, df[\"bedrooms\"]) - df[\"price\"]\n",
    "    squared_error = np.square(total_error)\n",
    "    n = df[\"price\"].size\n",
    "    return sum(squared_error) / n\n",
    "\n",
    "def graph(f):\n",
    "    x = np.array(range(0,13))\n",
    "    y = f(x)\n",
    "    plt.plot(x,y)\n",
    "    \n",
    "    plt.scatter(train['bedrooms'], train['price'])\n",
    "    plt.ticklabel_format(style='plain')\n",
    "\n",
    "    plt.show()\n",
    "\n",
    "def minimize_f(h, start):\n",
    "#     return minimize(partial(avg_squared_error, h, train), start, method='Nelder-Mead')\n",
    "#     return minimize(partial(avg_squared_error, h, train), start, method='L-BFGS-B')\n",
    "# FIXME\n",
    "    return minimize(partial(avg_squared_error, h, train), start, method='L-BFGS-B')\n",
    "\n",
    "def show_result(h, start):\n",
    "    min_result = minimize_f(h, start)\n",
    "    print('x: {0}'.format(min_result.x))\n",
    "    train_error = math.sqrt(avg_squared_error(h, train, min_result.x))\n",
    "    validation_error = math.sqrt(avg_squared_error(h, validation, min_result.x))\n",
    "#     error = avg_squared_error(h, min_result.x)\n",
    "    print (\"train average squared error: {0:.2E}\".format(train_error))\n",
    "    print (\"validation average squared error: {0:.2E}\".format(validation_error))\n",
    "    graph(partial(h, min_result.x))\n",
    "    return validation_error"
   ]
  },
  {
   "cell_type": "code",
   "execution_count": 299,
   "metadata": {
    "collapsed": false
   },
   "outputs": [
    {
     "name": "stdout",
     "output_type": "stream",
     "text": [
      "x: [  12315.45562641  153970.10894291]\n",
      "train average squared error: 3.52E+05\n",
      "validation average squared error: 3.27E+05\n"
     ]
    },
    {
     "data": {
      "image/png": "[encoded data removed]",
      "text/plain": [
       "<matplotlib.figure.Figure at 0x109031390>"
      ]
     },
     "metadata": {},
     "output_type": "display_data"
    }
   ],
   "source": [
    "def h1(x, data): return x[0] + x[1] * data\n",
    "h1_result = show_result(h1, [0, 0])"
   ]
  },
  {
   "cell_type": "code",
   "execution_count": 300,
   "metadata": {
    "collapsed": false
   },
   "outputs": [
    {
     "name": "stdout",
     "output_type": "stream",
     "text": [
      "x: [  97624.20899704  141855.56707829   -2656.44864888]\n",
      "train average squared error: 3.51E+05\n",
      "validation average squared error: 3.26E+05\n"
     ]
    },
    {
     "data": {
      "image/png": "[encoded data removed]",
      "text/plain": [
       "<matplotlib.figure.Figure at 0x10be12950>"
      ]
     },
     "metadata": {},
     "output_type": "display_data"
    }
   ],
   "source": [
    "def h2(x, data): return h1(x, data) + x[2] * np.power(data, 2)\n",
    "h2_result = show_result(h2, [1000, 1000, 1000])"
   ]
  },
  {
   "cell_type": "code",
   "execution_count": 301,
   "metadata": {
    "collapsed": false
   },
   "outputs": [
    {
     "name": "stdout",
     "output_type": "stream",
     "text": [
      "x: [ 13630.10745288  29480.27562178  60362.56657253  -6866.45021725]\n",
      "train average squared error: 3.56E+05\n",
      "validation average squared error: 3.32E+05\n"
     ]
    },
    {
     "data": {
      "image/png": "[encoded data removed]",
      "text/plain": [
       "<matplotlib.figure.Figure at 0x10ac29f50>"
      ]
     },
     "metadata": {},
     "output_type": "display_data"
    }
   ],
   "source": [
    "def h3(x, data): return h2(x, data) + x[3] * np.power(data, 3)\n",
    "h3_result = show_result(h3, [1000, 1000, 1000, 1000])"
   ]
  },
  {
   "cell_type": "code",
   "execution_count": 302,
   "metadata": {
    "collapsed": false
   },
   "outputs": [
    {
     "name": "stdout",
     "output_type": "stream",
     "text": [
      "x: [   947.75030644   1190.61815427   3547.05943295  17497.56080293\n",
      "  -2093.74448888]\n",
      "train average squared error: 3.85E+05\n",
      "validation average squared error: 3.91E+05\n"
     ]
    },
    {
     "data": {
      "image/png": "[encoded data removed]",
      "text/plain": [
       "<matplotlib.figure.Figure at 0x10bc680d0>"
      ]
     },
     "metadata": {},
     "output_type": "display_data"
    }
   ],
   "source": [
    "def h4(x, data): return h3(x, data) + x[4] * np.power(data, 4)\n",
    "h4_result = show_result(h4, [1000, 1000, 1000, 1000, 1000])\n",
    "# minimize(partial(avg_squared_error, h4, train), [1000, 1000, 1000, 1000, 1000], method='L-BFGS-B')"
   ]
  },
  {
   "cell_type": "code",
   "execution_count": 303,
   "metadata": {
    "collapsed": false
   },
   "outputs": [
    {
     "name": "stdout",
     "output_type": "stream",
     "text": [
      "x: [  9.99934264e+02   9.99914440e+02   1.00011614e+03   9.99600980e+02\n",
      "   9.97981102e+02  -2.03728131e-01   8.87021538e+00   8.80694181e+02\n",
      "   5.38792238e+02  -3.01969799e+02   4.19934381e+01]\n",
      "train average squared error: 6.54E+06\n",
      "validation average squared error: 1.25E+08\n"
     ]
    },
    {
     "data": {
      "image/png": "[encoded data removed]",
      "text/plain": [
       "<matplotlib.figure.Figure at 0x10bc3e550>"
      ]
     },
     "metadata": {},
     "output_type": "display_data"
    }
   ],
   "source": [
    "def h10(x, data): return h4(x, data) + x[5] * np.power(data, 5) * x[6] * np.power(data, 6) + x[7] * np.power(data, 7) + x[8] * np.power(data, 8) + x[9] * np.power(data, 9) + x[10] * np.power(data, 10)\n",
    "h10_result = show_result(h10, [1000, 1000, 1000, 1000, 1000, 1000, 1000, 1000, 1000, 1000, 1000])\n",
    "# minimize(partial(avg_squared_error, h10, train), [1000, 1000, 1000, 1000, 1000, 1000, 1000, 1000, 1000, 1000, 1000], method='L-BFGS-B')"
   ]
  },
  {
   "cell_type": "code",
   "execution_count": 305,
   "metadata": {
    "collapsed": false
   },
   "outputs": [
    {
     "name": "stdout",
     "output_type": "stream",
     "text": [
      "h1 -> h2: 9.30E+02\n",
      "h2 -> h3: -5.66E+03\n",
      "h3 -> h4: -5.88E+04\n",
      "h4 -> h10: -1.25E+08\n"
     ]
    }
   ],
   "source": [
    "print('h1 -> h2: {0:.2E}'.format(h1_result - h2_result))\n",
    "print('h2 -> h3: {0:.2E}'.format(h2_result - h3_result))\n",
    "print('h3 -> h4: {0:.2E}'.format(h3_result - h4_result))\n",
    "print('h4 -> h10: {0:.2E}'.format(h4_result - h10_result))"
   ]
  },
  {
   "cell_type": "markdown",
   "metadata": {},
   "source": [
    "# Linear Regression - Bed+Bath -> Price"
   ]
  },
  {
   "cell_type": "code",
   "execution_count": 207,
   "metadata": {
    "collapsed": false
   },
   "outputs": [
    {
     "name": "stdout",
     "output_type": "stream",
     "text": [
      " final_simplex: (array([[ -32603.66744994,   20321.9361149 ,  238055.23470209],\n",
      "       [ -32603.66744993,   20321.9361149 ,  238055.2347021 ],\n",
      "       [ -32603.66744993,   20321.9361149 ,  238055.23470209],\n",
      "       [ -32603.66744992,   20321.93611489,  238055.2347021 ]]), array([  9.89886360e+10,   9.89886360e+10,   9.89886360e+10,\n",
      "         9.89886360e+10]))\n",
      "           fun: 98988636011.537262\n",
      "       message: 'Optimization terminated successfully.'\n",
      "          nfev: 533\n",
      "           nit: 270\n",
      "        status: 0\n",
      "       success: True\n",
      "             x: array([ -32603.66744994,   20321.9361149 ,  238055.23470209])\n",
      "9.90E+10\n"
     ]
    }
   ],
   "source": [
    "def h(x):\n",
    "    return x[0] + x[1] * train[\"bedrooms\"] + x[2] * train[\"bathrooms\"]\n",
    "\n",
    "def avg_sq_error(x):\n",
    "    return sum(np.square(h(x) - train[\"price\"])) / train[\"price\"].size\n",
    "\n",
    "minimized = minimize(avg_sq_error, [1000, 1000, 1000], method='Nelder-Mead')\n",
    "print(minimized)\n",
    "print('{0:.2E}'.format(avg_sq_error(minimized.x)))"
   ]
  },
  {
   "cell_type": "markdown",
   "metadata": {},
   "source": [
    "# Linear Regression - Bed+Bath+Sqft -> Price"
   ]
  },
  {
   "cell_type": "code",
   "execution_count": 138,
   "metadata": {
    "collapsed": false
   },
   "outputs": [
    {
     "name": "stdout",
     "output_type": "stream",
     "text": [
      "[ 87912.85888908 -65081.88008051   6942.15730579    315.40668936]\n",
      "error: 6.69E+10\n"
     ]
    }
   ],
   "source": [
    "def h(x):\n",
    "    return x[0] + x[1] * train[\"bedrooms\"] + x[2] * train[\"bathrooms\"] + x[3] * train[\"sqft_living\"]\n",
    "\n",
    "def avg_sq_error(x):\n",
    "    return sum(np.square(h(x) - train[\"price\"])) / train[\"price\"].size\n",
    "\n",
    "minimized = minimize(avg_sq_error, [1000, 1000, 1000, 1000], method='Powell')\n",
    "print(minimized.x)\n",
    "print('error: {0:.2E}'.format(avg_sq_error(minimized.x)))"
   ]
  },
  {
   "cell_type": "code",
   "execution_count": 159,
   "metadata": {
    "collapsed": false
   },
   "outputs": [
    {
     "data": {
      "text/plain": [
       "array([10, 22, 36])"
      ]
     },
     "execution_count": 159,
     "metadata": {},
     "output_type": "execute_result"
    }
   ],
   "source": [
    "# def h(x):\n",
    "#     x * np.array([np.repeat(1, train[\"bedrooms\"].size), train[\"bedrooms\"], train[\"sqft_living\"]])\n",
    "    \n",
    "# def avg_sq_error_m(x):\n",
    "#     diff = h(x) - train[\"price\"]\n",
    "#     (diff * diff) / \n",
    "\n",
    "# r = (np.matrix([1,2,3]) * np.matrix([1,2,3]).T)\n",
    "# r[0,0]"
   ]
  },
  {
   "cell_type": "code",
   "execution_count": 206,
   "metadata": {
    "collapsed": false
   },
   "outputs": [
    {
     "name": "stdout",
     "output_type": "stream",
     "text": [
      "training set accuracy: 0.510365676594\n",
      "test set accuracy: 0.499370260294\n"
     ]
    }
   ],
   "source": [
    "from sklearn import linear_model\n",
    "\n",
    "def x_input(a):\n",
    "    return np.matrix([a[\"bedrooms\"], a[\"bathrooms\"], a[\"sqft_living\"]]).T\n",
    "def y_output(a): return a[\"price\"]\n",
    "\n",
    "regr = linear_model.LinearRegression()\n",
    "regr.fit(x_input(train), y_output(train)) # only fit the training set\n",
    "print('training set accuracy: {0}'.format(regr.score(x_input(train), y_output(train))))\n",
    "print('test set accuracy: {0}'.format(regr.score(x_input(test), y_output(test))))"
   ]
  }
 ],
 "metadata": {
  "kernelspec": {
   "display_name": "Python 2",
   "language": "python",
   "name": "python2"
  },
  "language_info": {
   "codemirror_mode": {
    "name": "ipython",
    "version": 2
   },
   "file_extension": ".py",
   "mimetype": "text/x-python",
   "name": "python",
   "nbconvert_exporter": "python",
   "pygments_lexer": "ipython2",
   "version": "2.7.10"
  }
 },
 "nbformat": 4,
 "nbformat_minor": 0
}
